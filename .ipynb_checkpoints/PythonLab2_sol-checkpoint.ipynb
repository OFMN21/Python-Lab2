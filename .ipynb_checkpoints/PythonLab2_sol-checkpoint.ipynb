{
 "cells": [
  {
   "cell_type": "code",
   "execution_count": 26,
   "id": "aafe390b",
   "metadata": {},
   "outputs": [],
   "source": [
    "movie = \"Southpaw\"\n",
    "rating = 3\n",
    "score=72.65"
   ]
  },
  {
   "cell_type": "code",
   "execution_count": 27,
   "id": "e4f2c19c",
   "metadata": {},
   "outputs": [
    {
     "name": "stdout",
     "output_type": "stream",
     "text": [
      "I recommended it, It is good\n"
     ]
    }
   ],
   "source": [
    "if rating >= 4 and score > 80:\n",
    "    print(\"Highly recommended\")\n",
    "elif rating >= 3 and score > 70:\n",
    "    print(\"I recommended it, It is good\")\n",
    "elif rating >= 2 and score > 60:\n",
    "    print(\"You should check it out!\")\n",
    "else:\n",
    "    print(\"Don't watch it, It is a waste of time\")"
   ]
  }
 ],
 "metadata": {
  "kernelspec": {
   "display_name": "Python 3 (ipykernel)",
   "language": "python",
   "name": "python3"
  },
  "language_info": {
   "codemirror_mode": {
    "name": "ipython",
    "version": 3
   },
   "file_extension": ".py",
   "mimetype": "text/x-python",
   "name": "python",
   "nbconvert_exporter": "python",
   "pygments_lexer": "ipython3",
   "version": "3.9.13"
  }
 },
 "nbformat": 4,
 "nbformat_minor": 5
}
